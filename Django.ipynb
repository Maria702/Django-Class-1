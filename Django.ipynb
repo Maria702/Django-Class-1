{
 "cells": [
  {
   "cell_type": "markdown",
   "metadata": {},
   "source": [
    "# Django"
   ]
  },
  {
   "cell_type": "markdown",
   "metadata": {},
   "source": [
    "- go to Anaconda, then open jupiter noteBook,open terminal , and  make a folder name \"mkdir Django\"\n",
    "\n",
    "- you are in  C:\\Users\\OK Computers\\Documents>\n",
    "- set a path , for setting s path type \"cd..\"\n",
    "- now you are in    , C:\\Users\\OK Computers>\n",
    "- then \"cd Django\"\n",
    "- now you are in that folder which you were created i.e C:\\Users\\OK Computers\\Django>\n",
    "\n",
    "- now install \"pip install Django\"\n",
    "\n",
    "- now check \"pip freeze\"\n",
    "- now open vs code.\n",
    "- but dont close terminal..\n",
    "- now in terminal type. \"django-admin\"\n",
    "- now type, \"django-admin startproject myweb\"\n",
    "- now go to my web directory, cd myweb\n",
    "- C:\\Users\\OK Computers\\Django\\myweb\n",
    "\n",
    "- now type, python manage.py runserver"
   ]
  },
  {
   "cell_type": "code",
   "execution_count": null,
   "metadata": {},
   "outputs": [],
   "source": []
  },
  {
   "cell_type": "code",
   "execution_count": null,
   "metadata": {},
   "outputs": [],
   "source": []
  },
  {
   "cell_type": "code",
   "execution_count": null,
   "metadata": {},
   "outputs": [],
   "source": []
  }
 ],
 "metadata": {
  "kernelspec": {
   "display_name": "Python 3",
   "language": "python",
   "name": "python3"
  },
  "language_info": {
   "codemirror_mode": {
    "name": "ipython",
    "version": 3
   },
   "file_extension": ".py",
   "mimetype": "text/x-python",
   "name": "python",
   "nbconvert_exporter": "python",
   "pygments_lexer": "ipython3",
   "version": "3.7.6"
  }
 },
 "nbformat": 4,
 "nbformat_minor": 4
}
